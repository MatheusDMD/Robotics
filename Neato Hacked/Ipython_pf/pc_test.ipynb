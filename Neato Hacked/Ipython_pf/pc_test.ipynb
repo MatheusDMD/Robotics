{
 "cells": [
  {
   "cell_type": "code",
   "execution_count": 1,
   "metadata": {
    "collapsed": false
   },
   "outputs": [],
   "source": [
    "%matplotlib inline\n"
   ]
  },
  {
   "cell_type": "code",
   "execution_count": 2,
   "metadata": {
    "collapsed": false
   },
   "outputs": [
    {
     "name": "stderr",
     "output_type": "stream",
     "text": [
      "'pwd' nÆo ‚ reconhecido como um comando interno\n",
      "ou externo, um programa oper vel ou um arquivo em lotes.\n"
     ]
    }
   ],
   "source": [
    "#!pwd"
   ]
  },
  {
   "cell_type": "code",
   "execution_count": 3,
   "metadata": {
    "collapsed": false
   },
   "outputs": [],
   "source": [
    "# Dados do arquivo mapa.yaml\n",
    "\n",
    "resolution = 0.020000\n",
    "origin =  [-5.000000, -5.000000, 0.000000]\n",
    "occupied_thresh = 0.65\n",
    "free_thresh =  0.196\n"
   ]
  },
  {
   "cell_type": "code",
   "execution_count": 4,
   "metadata": {
    "collapsed": false
   },
   "outputs": [
    {
     "ename": "ImportError",
     "evalue": "No module named 'rospy'",
     "output_type": "error",
     "traceback": [
      "\u001b[1;31m---------------------------------------------------------------------------\u001b[0m",
      "\u001b[1;31mImportError\u001b[0m                               Traceback (most recent call last)",
      "\u001b[1;32m<ipython-input-4-27b1fd4bace1>\u001b[0m in \u001b[0;36m<module>\u001b[1;34m()\u001b[0m\n\u001b[0;32m      6\u001b[0m \u001b[1;32mimport\u001b[0m \u001b[0mmath\u001b[0m\u001b[1;33m\u001b[0m\u001b[0m\n\u001b[0;32m      7\u001b[0m \u001b[1;32mimport\u001b[0m \u001b[0mrandom\u001b[0m\u001b[1;33m\u001b[0m\u001b[0m\n\u001b[1;32m----> 8\u001b[1;33m \u001b[1;32mfrom\u001b[0m \u001b[0mpf\u001b[0m \u001b[1;32mimport\u001b[0m \u001b[0mParticle\u001b[0m\u001b[1;33m\u001b[0m\u001b[0m\n\u001b[0m\u001b[0;32m      9\u001b[0m \u001b[1;32mfrom\u001b[0m \u001b[0mnav_msgs\u001b[0m\u001b[1;33m.\u001b[0m\u001b[0mmsg\u001b[0m \u001b[1;32mimport\u001b[0m \u001b[0mOccupancyGrid\u001b[0m\u001b[1;33m\u001b[0m\u001b[0m\n\u001b[0;32m     10\u001b[0m \u001b[1;32mfrom\u001b[0m \u001b[0moccupancy_field\u001b[0m \u001b[1;32mimport\u001b[0m \u001b[0mOccupancyField\u001b[0m\u001b[1;33m\u001b[0m\u001b[0m\n",
      "\u001b[1;32mC:\\Users\\mathe_000\\Desktop\\INSPER\\2016-1\\Robotica Computacional\\Robotics\\Ipython_pf\\pf.py\u001b[0m in \u001b[0;36m<module>\u001b[1;34m()\u001b[0m\n\u001b[0;32m      8\u001b[0m \"\"\"\n\u001b[0;32m      9\u001b[0m \u001b[1;33m\u001b[0m\u001b[0m\n\u001b[1;32m---> 10\u001b[1;33m \u001b[1;32mimport\u001b[0m \u001b[0mrospy\u001b[0m\u001b[1;33m\u001b[0m\u001b[0m\n\u001b[0m\u001b[0;32m     11\u001b[0m \u001b[1;33m\u001b[0m\u001b[0m\n\u001b[0;32m     12\u001b[0m \u001b[1;32mfrom\u001b[0m \u001b[0mstd_msgs\u001b[0m\u001b[1;33m.\u001b[0m\u001b[0mmsg\u001b[0m \u001b[1;32mimport\u001b[0m \u001b[0mHeader\u001b[0m\u001b[1;33m,\u001b[0m \u001b[0mString\u001b[0m\u001b[1;33m\u001b[0m\u001b[0m\n",
      "\u001b[1;31mImportError\u001b[0m: No module named 'rospy'"
     ]
    }
   ],
   "source": [
    "from random import randint, choice\n",
    "import time\n",
    "import matplotlib.pyplot as plt\n",
    "import matplotlib.patches as mpatches\n",
    "import numpy as np\n",
    "import math\n",
    "import random\n",
    "from pf import Particle\n",
    "from nav_msgs.msg import OccupancyGrid\n",
    "from occupancy_field import OccupancyField\n",
    "from helper_functions import angle_normalize, angle_diff\n",
    "\n",
    "\n",
    "from PIL import Image as PilImage\n",
    "pil_image = PilImage.open(\"scaled_map.pgm\", 'r')\n",
    "np_image = np.asarray(pil_image)\n",
    "\n",
    "particle_size = 10\n",
    "\n",
    "#import matplotlib_render as plotmap\n",
    "\n",
    "\n",
    "back_color = \"black\"\n",
    "colors     = ['red', 'green', 'cyan', 'yellow']\n",
    "width, height = 480, 480\n",
    "\n",
    "initial_pose = [200, 200, math.pi/8] # Posicao inicial considerada para o pf\n",
    "pose = [320, 250, math.radians(90)] # posicao \"verdadeira\" do robo \n",
    "robot_radius=10   # Raio do robo\n",
    "\n",
    "# Os angulos em que o robo simulado vai ter sensores\n",
    "angles = np.linspace(0.0, 2*math.pi, num=8)\n",
    "\n",
    "particle_cloud = []\n",
    "\n",
    "def convert_to_figure(xy_theta):\n",
    "    \"\"\" \n",
    "        Converts a xy_theta to screen coordinates\n",
    "    \"\"\"\n",
    "    pass\n",
    "\n",
    "\n",
    "def nb_draw_map(mapa_numpy, particles = None, initial_position=False, pose=False, robot=False):\n",
    "    fig, ax = plt.subplots(figsize=(10,10))\n",
    "    ax.set(xlim=[0, width], ylim=[0, height]) # Or use \"ax.axis([x0,x1,y0,y1])\"\n",
    "\n",
    "    fig.canvas.draw()\n",
    "\n",
    "    #def update():\n",
    "\n",
    "    plt.imshow(mapa_numpy, cmap='Greys_r')\n",
    "    if initial_position:\n",
    "        draw_initial_pose(initial_pose,ax)\n",
    "    if particles:\n",
    "        nb_draw_particle_cloud(particles, ax)\n",
    "    if pose:\n",
    "        nb_draw_arrow(pose[0], pose[1], pose[2], ax, color='g', width=2, headwidth=6, headlength=6)\n",
    "    if robot:\n",
    "        nb_draw_robot(pose, ax, radius=robot_radius)\n",
    "    \n",
    "    return ax # Retornamos o contexto grafico caso queiram fazer algo depois\n",
    "\n",
    "        \n",
    "def draw_initial_pose(pose_xytheta, ax):\n",
    "    \"\"\"\n",
    "        Metodo que desenha a pose inicial\n",
    "        pose - um array que contem x, y e theta da pose inicial\n",
    "        ax - um objeto do matplotlib\n",
    "    \"\"\"\n",
    "    x = pose_xytheta[0]\n",
    "    y = pose_xytheta[1]\n",
    "    theta = pose_xytheta[2]\n",
    "    l = 15\n",
    "    #end_x = x + deltax\n",
    "    #end_y = y + deltay\n",
    "    nb_draw_arrow(x, y, theta, ax, l=l, color='r', width=2, headwidth=6, headlength=6)\n",
    "    \n",
    "def nb_draw_arrow(x, y, theta, ax, l = 15, color='y', headwidth=3.0, headlength=3, width=0.001):\n",
    "    deltax = l*math.cos(theta)\n",
    "    deltay = l*math.sin(theta)\n",
    "    ax.arrow(x, y, deltax, deltay, head_width=headwidth, head_length=headlength, fc=color,  ec=color, width=width)\n",
    "\n",
    "def nb_draw_particle_cloud(particles, ax):\n",
    "    \"\"\"\n",
    "        Desenha o particle cloud\n",
    "        particles - uma lista de objetos Particle\n",
    "        ax - eixo\n",
    "    \"\"\"\n",
    "    for p in particles:\n",
    "        nb_draw_arrow(p.x, p.y, p.theta, ax, particle_size, color='b')\n",
    "\n",
    "def normalize_particles():\n",
    "    #global particle_cloud\n",
    "    w_sum = 0\n",
    "    for p in particle_cloud:\n",
    "        w_sum+=p.w\n",
    "    for p in particle_cloud:\n",
    "        p.normalize(w_sum)\n",
    "\n",
    "def update_robot_pose():\n",
    "    \"\"\" Update the estimate of the robot's pose given the updated particles.\n",
    "        There are two logical methods for this:\n",
    "            (1): compute the mean pose\n",
    "            (2): compute the most likely pose (i.e. the mode of the distribution)\n",
    "    \"\"\"\n",
    "    # first make sure that the particle weights are normalized\n",
    "    normalize_particles()\n",
    "\n",
    "    # TODO: assign the lastest pose into self.robot_pose as a geometry_msgs.Pose object\n",
    "    # Nota: neste notebook ao inves de usarmos um objeto Pose vou usar uma lista x, y, theta\n",
    "    robot_pose = [0, 0, 0]\n",
    "        \n",
    "def nb_initialize_particle_cloud(xy_theta=None):\n",
    "    \"\"\" Initialize the particle cloud.\n",
    "        Arguments\n",
    "        xy_theta: a triple consisting of the mean x, y, and theta (yaw) to initialize the\n",
    "                  particle cloud around.  If this input is ommitted, the odometry will be used \"\"\"\n",
    "    if xy_theta == None:\n",
    "        #xy_theta = convert_pose_to_xy_and_theta(.odom_pose.pose)\n",
    "        pass\n",
    "    global particle_cloud\n",
    "    # TODO create particles\n",
    "    particle_cloud = nb_create_particles(initial_pose)\n",
    "        \n",
    "    normalize_particles()\n",
    "    update_robot_pose()    \n",
    "    \n",
    "def nb_create_particles(pose, var_x = 50, var_y = 50, var_theta = math.pi/3, num=100):\n",
    "    \"\"\"\n",
    "        Cria num particulas\n",
    "        situadas no intervalo x - var_x a x + var_x, y - var_x at'e y + var_y e theta - var_theta a theta + var_theta\n",
    "    \"\"\"\n",
    "    particle_cloud = []\n",
    "    s = pose\n",
    "    for i in range(num):\n",
    "        x = random.uniform(s[0] - var_x, s[0] + var_x)\n",
    "        y = random.uniform(s[1] - var_x, s[1] + var_y)\n",
    "        theta = random.uniform(s[2] - var_theta, s[2] + var_theta)\n",
    "        p = Particle(x, y, theta, w=1.0) # A prob. w vai ser normalizada depois\n",
    "        particle_cloud.append(p)\n",
    "    return particle_cloud\n",
    "\n",
    "def nb_draw_robot(position, ax, radius=10):\n",
    "    from matplotlib.patches import Circle\n",
    "    circle = Circle((position[0], position[1]), radius, facecolor='none',\n",
    "                    edgecolor=(0.0, 0.8, 0.2), linewidth=2, alpha=0.7)\n",
    "    ax.add_patch(circle)\n",
    "    \n",
    "def nb_create_ros_map(numpy_image):\n",
    "    \"\"\"\n",
    "        Este notebook nao usa o service GetMap, portanto\n",
    "        precisamos usar a imagem que foi lida e criar um OccupancyGrid\n",
    "    \"\"\"\n",
    "    grid = OccupancyGrid()\n",
    "    grid.info.resolution = 1\n",
    "    w = numpy_image.shape[0]\n",
    "    h = numpy_image.shape[1]    \n",
    "    grid.info.width = w\n",
    "    grid.info.height = h\n",
    "    image_data = []\n",
    "    for i in range(numpy_image.size):\n",
    "        cell = 1.0 - (numpy_image[i//w][i%w]/255.0)\n",
    "        if cell < 0.005:\n",
    "            cell = 0\n",
    "        image_data.append(cell)\n",
    "    \n",
    "    print(\"Occurences of zero\",image_data.count(0))\n",
    "    grid.data = image_data\n",
    "    return grid\n",
    "\n",
    "def nb_interp(min_a, max_a, a, dst_min, dst_max):\n",
    "    \"\"\"\n",
    "        Funcao de interpolacao generica.\n",
    "        min_a\n",
    "        max_a\n",
    "        a - valor na faixa de origem\n",
    "        dst_min, dst_max - a faixa de destino\n",
    "    \"\"\"    \n",
    "    return dst_min + ((a - min_a)/(max_a - min_a))*(dst_max - dst_min)\n",
    "\n",
    "def nb_cria_occupancy_field_image(occupancy_field, numpy_image):\n",
    "    occupancy_image = numpy_image.copy() # todo: extrair do occupancy_grid no futuro\n",
    "    max_dist = max(occupancy_field.closest_occ.values())\n",
    "    min_dist = min(occupancy_field.closest_occ.values())\n",
    "    for i in range(occupancy_image.shape[1]):\n",
    "        for j in range(occupancy_image.shape[0]):\n",
    "            occupancy_image[i][j] = int(nb_interp(min_dist, max_dist, occupancy_field.get_closest_obstacle_distance(j,i), 0, 255))\n",
    "    return occupancy_image\n",
    "   \n",
    "\n",
    "\n",
    "\n",
    "def nb_outside_image(x, y, img):\n",
    "    if x > img.shape[1] or x < 0:\n",
    "        return true\n",
    "    if y > img.shape[0] or y < 0:\n",
    "        return ture\n",
    "\n",
    "def nb_found_obstacle(x, y, x0, y0, img):\n",
    "    gray_value = 1.0 - img[x][y]/255.0\n",
    "    if gray_value > free_thresh and gray_value < occupied_thresh:\n",
    "        return math.sqrt( (x0 - x)**2 + (y0 - x)**2 )\n",
    "\n",
    "        \n",
    "    \n",
    "def nb_find_discrete_line_versor(xa, ya, angle):\n",
    "    m = math.tan(angle)\n",
    "    delta = 50.0 # arbitrario\n",
    "    xd = xa + delta*math.cos(angle)\n",
    "    yd = ya + delta*math.sin(angle)\n",
    "    deltay = yd - ya\n",
    "    deltax = xd - xa\n",
    "    v = [deltax, deltay]\n",
    "    length = math.sqrt(deltax**2 + deltay**2)\n",
    "    versor = [deltax/delta, deltay/delta]\n",
    "    # Um pouco ineficiente mas 'garante' que nao pularemos celular\n",
    "    for i in range(len(versor)):\n",
    "        versor[i]*=0.6\n",
    "    return versor\n",
    "    \n",
    "\n",
    "\n",
    "def nb_simulate_lidar(robot_pose, angles, img):\n",
    "    \"\"\"\n",
    "        Simula a leitura `real` do LIDAR supondo que o robot esteja na robot_pose e com sensores nos angulos angles\n",
    "        \n",
    "        Nao e' necessario fazer isso em seu projeto\n",
    "        \n",
    "        retorna uma lista de pontos de intersecao ou -1 se o sensor nao ler nada naquele angulo\n",
    "        \n",
    "    \"\"\"\n",
    "    a = angles.copy()\n",
    "    theta = 2 # para ficar mais intuitivo\n",
    "    \n",
    "    #robot_pose[theta] = angle_normalize(robot_pose[theta])\n",
    "    \n",
    "    lidar_results = {}\n",
    "    \n",
    "    result_img = np.zeros(img.shape)\n",
    "    result_img.fill(255) # Deixamos tudo branco\n",
    "    \n",
    "    x0 = robot_pose[0]\n",
    "    y0 = robot_pose[1]\n",
    "    \n",
    "    for angulo in a:\n",
    "        # Faz o angulo ser relativo ao robo\n",
    "        ang = robot_pose[theta]+angulo\n",
    "        print(\"Angle \", ang)\n",
    "        xa, ya = x0, y0\n",
    "        x = xa\n",
    "        y = ya\n",
    "        vers = nb_find_discrete_line_versor(xa, ya, ang)\n",
    "        #print(\"vers \", ang, \"  \" , vers)\n",
    "\n",
    "        while (True):\n",
    "            result_img[int(y), int(x)] = 0 # Marcamos o raio na imagem y,x porque numpy e' linha, coluna\n",
    "            if nb_outside_image(int(x), int(y), img):\n",
    "                # A imagem acabou, nao achamos nada\n",
    "                lidar_results[ang] = -1   \n",
    "                print(\"Outside at \",x ,\"  \",y, \"  for angle \", ang)\n",
    "                break\n",
    "            dist = nb_found_obstacle(int(y), int(x), y0, x0, img)\n",
    "            if dist > -1:   \n",
    "                # Achamos alguma coisa\n",
    "                lidar_results[ang] = dist \n",
    "                print(\"Hit for \",x,  \"  \",y, \"  for angle \", ang)                \n",
    "                break\n",
    "            # Keep going if none of the \"ifs\" has been triggered\n",
    "            x += vers[0]\n",
    "            y += vers[1]\n",
    "            \n",
    "    return lidar_results, result_img\n",
    "\n",
    "\n",
    "    \n",
    "    \n",
    "    \n",
    "    "
   ]
  },
  {
   "cell_type": "code",
   "execution_count": null,
   "metadata": {
    "collapsed": false
   },
   "outputs": [],
   "source": []
  },
  {
   "cell_type": "markdown",
   "metadata": {},
   "source": [
    "## Mapa com posicao inicial"
   ]
  },
  {
   "cell_type": "code",
   "execution_count": null,
   "metadata": {
    "collapsed": false
   },
   "outputs": [],
   "source": [
    "nb_draw_map(np_image)"
   ]
  },
  {
   "cell_type": "code",
   "execution_count": null,
   "metadata": {
    "collapsed": false
   },
   "outputs": [],
   "source": [
    "# Inicializa as particulas\n",
    "nb_initialize_particle_cloud()"
   ]
  },
  {
   "cell_type": "code",
   "execution_count": null,
   "metadata": {
    "collapsed": false
   },
   "outputs": [],
   "source": [
    "nb_draw_map(np_image, particles = particle_cloud, initial_position = initial_pose, pose=pose, robot=True)"
   ]
  },
  {
   "cell_type": "code",
   "execution_count": null,
   "metadata": {
    "collapsed": false
   },
   "outputs": [],
   "source": []
  },
  {
   "cell_type": "code",
   "execution_count": null,
   "metadata": {
    "collapsed": false
   },
   "outputs": [],
   "source": []
  },
  {
   "cell_type": "code",
   "execution_count": null,
   "metadata": {
    "collapsed": false
   },
   "outputs": [],
   "source": []
  },
  {
   "cell_type": "markdown",
   "metadata": {},
   "source": [
    "## Occupancy field para o exemplo"
   ]
  },
  {
   "cell_type": "code",
   "execution_count": null,
   "metadata": {
    "collapsed": false
   },
   "outputs": [],
   "source": [
    "# Obtemos o mapa. Esta etapa no projeto e'  com um cliente do servico MapServer\n",
    "mapa = nb_create_ros_map(np_image)\n",
    "occupancy_field = OccupancyField(mapa)\n",
    "\n",
    "\n",
    "\n"
   ]
  },
  {
   "cell_type": "code",
   "execution_count": null,
   "metadata": {
    "collapsed": false
   },
   "outputs": [],
   "source": [
    "# Criaremos um plot do occupancy_field\n",
    "occupancy_image = nb_cria_occupancy_field_image(occupancy_field, np_image)"
   ]
  },
  {
   "cell_type": "code",
   "execution_count": null,
   "metadata": {
    "collapsed": false
   },
   "outputs": [],
   "source": [
    "ax = nb_draw_map(np_image)\n",
    "ax.imshow(occupancy_image, alpha=0.5)"
   ]
  },
  {
   "cell_type": "code",
   "execution_count": null,
   "metadata": {
    "collapsed": false
   },
   "outputs": [],
   "source": [
    "angles"
   ]
  },
  {
   "cell_type": "markdown",
   "metadata": {},
   "source": [
    "# Simulacao da imagem do laser"
   ]
  },
  {
   "cell_type": "markdown",
   "metadata": {},
   "source": [
    "Para simular a leitura **real** do robo, use *nb_simulate_lidar* passando a posicao do robo, os angulos do sensor e a np_image com o mapa"
   ]
  },
  {
   "cell_type": "code",
   "execution_count": null,
   "metadata": {
    "collapsed": false
   },
   "outputs": [],
   "source": [
    "leituras, lidar_map = nb_simulate_lidar(pose, angles, np_image)\n"
   ]
  },
  {
   "cell_type": "markdown",
   "metadata": {},
   "source": [
    "As leituras serao retornadas pela simulacao do lidar. Sao armazenadas na forma de um dicionario com angulo: valor da leitura"
   ]
  },
  {
   "cell_type": "code",
   "execution_count": null,
   "metadata": {
    "collapsed": false
   },
   "outputs": [],
   "source": [
    "# As predicoes teoricas das leituras\n",
    "leituras"
   ]
  },
  {
   "cell_type": "markdown",
   "metadata": {},
   "source": [
    "# Laser simulado sobre occupancy field"
   ]
  },
  {
   "cell_type": "code",
   "execution_count": null,
   "metadata": {
    "collapsed": false
   },
   "outputs": [],
   "source": [
    "ax = nb_draw_map(np_image, pose=pose, robot=True)\n",
    "ax.imshow(occupancy_image, alpha=0.2)\n",
    "ax.imshow(lidar_map, alpha=0.5)"
   ]
  },
  {
   "cell_type": "code",
   "execution_count": null,
   "metadata": {
    "collapsed": false
   },
   "outputs": [],
   "source": []
  },
  {
   "cell_type": "code",
   "execution_count": null,
   "metadata": {
    "collapsed": false
   },
   "outputs": [],
   "source": [
    "def update_particles_with_odom(delta):\n",
    "    \"\"\" Update the particles using the newly given odometry pose.\n",
    "        The function computes the value delta which is a tuple (x,y,theta)\n",
    "        that indicates the change in position and angle between the odometry\n",
    "        when the particles were last updated and the current odometry.\n",
    "\n",
    "        msg: this is not really needed to implement this, but is here just in case.\n",
    "    \"\"\"\n",
    "    for particle in particle_cloud:\n",
    "        particle.x += delta[0]\n",
    "        particle.y += delta[1]\n",
    "        particle.theta += delta[2]\n",
    "\n"
   ]
  },
  {
   "cell_type": "code",
   "execution_count": null,
   "metadata": {
    "collapsed": false
   },
   "outputs": [],
   "source": [
    "def resample_particles(particle_cloud):\n",
    "    \"\"\" Resample the particles according to the new particle weights.\n",
    "        The weights stored with each particle should define the probability that a particular\n",
    "        particle is selected in the resampling step.  You may want to make use of the given helper\n",
    "        function draw_random_sample.\n",
    "    \"\"\"\n",
    "    # make sure the distribution is normalized\n",
    "\n",
    "    particle_cloud = weighted_values(particle_cloud,\n",
    "                                            [p.w for p in particle_cloud],\n",
    "                                            len(particle_cloud))\n",
    "    for p in particle_cloud:\n",
    "        p.w = 1./len(particle_cloud)\n",
    "\n",
    "    normalize_particles()\n",
    "    \n",
    "def weighted_values(values, probabilities, n):\n",
    "    \"\"\" Return a random sample of size elements from the set values with the specified probabilities\n",
    "        values: the values to sample from (numpy.ndarray)\n",
    "        probabilities: the probability of selecting each element in values (numpy.ndarray)\n",
    "        size: the number of samples\n",
    "    \"\"\"        \n",
    "    bins = np.add.accumulate(probabilities)\n",
    "    return values[np.digitize(random_sample(size), bins)]"
   ]
  },
  {
   "cell_type": "code",
   "execution_count": null,
   "metadata": {
    "collapsed": false
   },
   "outputs": [],
   "source": []
  },
  {
   "cell_type": "code",
   "execution_count": null,
   "metadata": {
    "collapsed": false
   },
   "outputs": [],
   "source": [
    "def update_particles_with_laser(particle_cloud):\n",
    "    \"\"\" Updates the particle weights in response to the scan contained in the msg \"\"\"\n",
    "    ranges = []\n",
    "    for k in sorted(leituras.keys()):\n",
    "        for particle in particle_cloud:\n",
    "            particle.w = 1.0\n",
    "            get_particle_likelyhood(particle,leituras[k],20,k)\n",
    "    particle_cloud = resample_particles(particle_cloud)\n",
    "    normalize_particles()\n",
    "    \n",
    "def get_particle_likelyhood(particle,observation,model_noise_rate,angle):\n",
    "    closest = occupancy_field.get_closest_obstacle_distance(particle.x + math.cos(math.radians(angle)),particle.y+math.sin(math.radians(angle)))\n",
    "    if closest == -1:\n",
    "        particle.w = 0.0\n",
    "    else:\n",
    "        position = math.sqrt((particle.x**2)+(particle.y**2))\n",
    "        particle.w += norm(0, model_noise_rate).pdf(position - observation)"
   ]
  },
  {
   "cell_type": "markdown",
   "metadata": {},
   "source": [
    "## Sugestao de atividade:\n",
    "\n",
    "Coloque os seguintes passos num loop:\n",
    "\n",
    "- Mova o robo alterando a variavel *pose*\n",
    "\n",
    "- Atualize as particulas com odometria\n",
    "\n",
    "- Calcule a verossimilanca das particulas usando o OccupancyField - **note que e'  a mesma classe usada no ROS**\n",
    "\n",
    "- Reamostre as particulas\n",
    "\n",
    "Use as funcoes de plot abundantemente ao longo do desenvolvimento"
   ]
  },
  {
   "cell_type": "code",
   "execution_count": null,
   "metadata": {
    "collapsed": false
   },
   "outputs": [],
   "source": [
    "from scipy.stats import norm\n",
    "from numpy.random import random_sample\n",
    "from copy import deepcopy\n",
    "\n",
    "position = [[0,25,0],[0,25,0],[0,25,0],[0,25,0],[-25,10,0],[-25,0,0],[-25,0,0],[-25,0,0],[-25,0,0],[-25,0,0],[0,-25,0],[0,-25,0],[0,-25,0],[0,-25,0]]\n",
    "for pos in position:\n",
    "    pose[0]+=pos[0]\n",
    "    pose[1]+=pos[1]\n",
    "    pose[2]+=pos[2]\n",
    "    leituras,lidar = nb_simulate_lidar(pose,angles,np_image)\n",
    "    update_particles_with_odom(pos)\n",
    "    update_particles_with_laser(particle_cloud)\n"
   ]
  },
  {
   "cell_type": "code",
   "execution_count": null,
   "metadata": {
    "collapsed": false
   },
   "outputs": [],
   "source": [
    "nb_draw_map(np_image, particles = particle_cloud, initial_position = initial_pose, pose=pose, robot=True)"
   ]
  },
  {
   "cell_type": "code",
   "execution_count": null,
   "metadata": {
    "collapsed": false
   },
   "outputs": [],
   "source": [
    "ax = nb_draw_map(np_image)\n",
    "ax.imshow(occupancy_image, alpha=0.5)"
   ]
  },
  {
   "cell_type": "code",
   "execution_count": null,
   "metadata": {
    "collapsed": false
   },
   "outputs": [],
   "source": [
    "ax = nb_draw_map(np_image, pose=pose, robot=True, particles=particle_cloud)\n",
    "ax.imshow(occupancy_image, alpha=0.2)\n",
    "ax.imshow(lidar_map, alpha=0.5)"
   ]
  },
  {
   "cell_type": "code",
   "execution_count": null,
   "metadata": {
    "collapsed": false
   },
   "outputs": [],
   "source": []
  }
 ],
 "metadata": {
  "kernelspec": {
   "display_name": "Python 3",
   "language": "python",
   "name": "python3"
  },
  "language_info": {
   "codemirror_mode": {
    "name": "ipython",
    "version": 3
   },
   "file_extension": ".py",
   "mimetype": "text/x-python",
   "name": "python",
   "nbconvert_exporter": "python",
   "pygments_lexer": "ipython3",
   "version": "3.5.1"
  }
 },
 "nbformat": 4,
 "nbformat_minor": 0
}
